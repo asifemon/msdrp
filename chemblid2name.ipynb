{
 "cells": [
  {
   "cell_type": "markdown",
   "metadata": {
    "collapsed": false
   },
   "source": [
    "# Mapping 2725 L1000 Drugs to their name and clinical Tiral Phases\n",
    "## we use official \"ChEMBL webresource client\" library to do the mapping as detailed here https://github.com/chembl/chembl_webresource_client"
   ]
  },
  {
   "cell_type": "markdown",
   "metadata": {
    "collapsed": false
   },
   "source": [
    "import csv\n",
    "from chembl_webresource_client.new_client import new_client"
   ]
  },
  {
   "cell_type": "code",
   "execution_count": 3,
   "metadata": {
    "collapsed": true
   },
   "outputs": [],
   "source": [
    "# use L1000Drugs.csv file created from 05-RetrieveDrugResponseData.R script\n",
    "with open('/home/memon/projects/msdrp/data/L1000Drugs.csv', 'rb') as csvfile:\n",
    "    reader = csv.reader(csvfile)\n",
    "    d_list = list(reader)"
   ]
  },
  {
   "cell_type": "code",
   "execution_count": 7,
   "metadata": {
    "collapsed": false
   },
   "outputs": [],
   "source": [
    "dmap = list()\n",
    "molecule = new_client.molecule\n",
    "for i in d_list:\n",
    "    dmap.append(molecule.filter(chembl_id=i).only(['molecule_chembl_id', 'pref_name','indication_class','max_phase','molecule_properties__num_ro5_violations']))"
   ]
  },
  {
   "cell_type": "code",
   "execution_count": 9,
   "metadata": {
    "collapsed": false
   },
   "outputs": [],
   "source": [
    "with open('/home/memon/projects/msdrp/data/2725_drugs_details.csv', 'wb') as output:\n",
    "    writer = csv.writer(output, lineterminator='\\n')\n",
    "    for drugs in dmap:\n",
    "        writer.writerow(drugs)   "
   ]
  },
  {
   "cell_type": "code",
   "execution_count": null,
   "metadata": {
    "collapsed": true
   },
   "outputs": [],
   "source": [
    "# dmap = read.csv(\"/home/memon/projects/msdrp/data/2725_drugs_details.csv\",header = F)\n",
    "# dmap$V1 = gsub(\"[A-z]+\\\\':\",\"\",dmap$V1)\n",
    "# dmap$V1 = gsub(\"u\",\"\",dmap$V1)\n",
    "# dmap$V1 = gsub(\"\\'\",\"\",dmap$V1)\n",
    "# dmap$V1 = gsub(\" \",\"\",dmap$V1)\n",
    "# dmap$V1 = gsub(\"\\\\{\",\"\",dmap$V1)\n",
    "# dmap$V1 = gsub(\"\\\\}\",\"\",dmap$V1)\n",
    "\n",
    "# dmap = as.data.frame(str_split_fixed(dmap$V1, \",\", 26))\n",
    "\n",
    "# dmap = dmap[,c(2,26,1,3,9)]\n",
    "# names(dmap) = c(\"chembl.id\",\"chembl.name\",\"phase\",\"indication\",\"ruleof5\")\n",
    "# dmap= dmap %>% mutate_all(as.character)\n",
    "# dmap$chembl.name = gsub(\"[0-9]+.[0-9]+,\",\"\",dmap$chembl.name)\n",
    "# dmap[dmap == \"None\"] <- NA\n",
    "\n",
    "# save(dmap,file = \"./data/drug2715details.RData\")"
   ]
  },
  {
   "cell_type": "markdown",
   "metadata": {},
   "source": [
    "## following part just get the approved drug list from CHEMBL (PHASE IV)"
   ]
  },
  {
   "cell_type": "code",
   "execution_count": 10,
   "metadata": {
    "collapsed": true
   },
   "outputs": [],
   "source": [
    "molecule = new_client.molecule\n",
    "adrugs = molecule.filter(max_phase=4).only(['molecule_chembl_id', 'pref_name','indication_class'])"
   ]
  },
  {
   "cell_type": "code",
   "execution_count": 115,
   "metadata": {
    "collapsed": false
   },
   "outputs": [
    {
     "data": {
      "text/plain": [
       "chembl_webresource_client.query_set.QuerySet"
      ]
     },
     "execution_count": 115,
     "metadata": {},
     "output_type": "execute_result"
    }
   ],
   "source": [
    "type(adrugs)"
   ]
  },
  {
   "cell_type": "code",
   "execution_count": 256,
   "metadata": {
    "collapsed": false
   },
   "outputs": [
    {
     "data": {
      "text/plain": [
       "u'OFLOXACIN'"
      ]
     },
     "execution_count": 256,
     "metadata": {},
     "output_type": "execute_result"
    }
   ],
   "source": [
    "adrugs[2]['pref_name']"
   ]
  },
  {
   "cell_type": "code",
   "execution_count": 155,
   "metadata": {
    "collapsed": false
   },
   "outputs": [],
   "source": [
    "import csv\n",
    "\n",
    "with open('/home/memon/projects/msdrp/data/approved_drugs.csv', 'wb') as output:\n",
    "    writer = csv.writer(output, lineterminator='\\n')\n",
    "    for i in adrugs:\n",
    "        val = i['molecule_chembl_id'],i['pref_name'],i['indication_class']\n",
    "        writer.writerow(val)   "
   ]
  },
  {
   "cell_type": "code",
   "execution_count": 144,
   "metadata": {
    "collapsed": false
   },
   "outputs": [],
   "source": []
  }
 ],
 "metadata": {
  "kernelspec": {
   "display_name": "Python 2",
   "language": "python",
   "name": "python2"
  },
  "language_info": {
   "codemirror_mode": {
    "name": "ipython",
    "version": 2
   },
   "file_extension": ".py",
   "mimetype": "text/x-python",
   "name": "python",
   "nbconvert_exporter": "python",
   "pygments_lexer": "ipython2",
   "version": "2.7.15"
  }
 },
 "nbformat": 4,
 "nbformat_minor": 0
}
