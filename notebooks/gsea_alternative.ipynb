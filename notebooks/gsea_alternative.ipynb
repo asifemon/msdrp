{
 "cells": [
  {
   "cell_type": "markdown",
   "metadata": {},
   "source": [
    "# GSEAPy\n",
    "\n",
    "This notebook outlines how other pathway enrichment methods can be used to obtain the pathway dysregulation vectors."
   ]
  },
  {
   "cell_type": "code",
   "execution_count": 1,
   "metadata": {},
   "outputs": [],
   "source": [
    "import sys, time, getpass\n",
    "\n",
    "import pandas as pd\n",
    "import gseapy"
   ]
  },
  {
   "cell_type": "code",
   "execution_count": 2,
   "metadata": {},
   "outputs": [
    {
     "name": "stdout",
     "output_type": "stream",
     "text": [
      "3.6.5 (default, Apr 20 2018, 08:54:42) \n",
      "[GCC 4.8.5 20150623 (Red Hat 4.8.5-16)]\n"
     ]
    }
   ],
   "source": [
    "print(sys.version)"
   ]
  },
  {
   "cell_type": "code",
   "execution_count": 3,
   "metadata": {},
   "outputs": [
    {
     "name": "stdout",
     "output_type": "stream",
     "text": [
      "Wed May 15 15:47:42 2019\n"
     ]
    }
   ],
   "source": [
    "print(time.asctime())"
   ]
  },
  {
   "cell_type": "code",
   "execution_count": 4,
   "metadata": {},
   "outputs": [
    {
     "name": "stdout",
     "output_type": "stream",
     "text": [
      "ddomingofernandez\n"
     ]
    }
   ],
   "source": [
    "print(getpass.getuser())"
   ]
  },
  {
   "cell_type": "code",
   "execution_count": 5,
   "metadata": {},
   "outputs": [],
   "source": [
    "data = pd.read_csv('/home/ddomingofernandez/Downloads/datasets/brca_deseq2.csv')"
   ]
  },
  {
   "cell_type": "code",
   "execution_count": 6,
   "metadata": {},
   "outputs": [
    {
     "data": {
      "text/html": [
       "<div>\n",
       "<table border=\"1\" class=\"dataframe\">\n",
       "  <thead>\n",
       "    <tr style=\"text-align: right;\">\n",
       "      <th></th>\n",
       "      <th>Unnamed: 0</th>\n",
       "      <th>baseMean</th>\n",
       "      <th>log2FoldChange</th>\n",
       "      <th>lfcSE</th>\n",
       "      <th>stat</th>\n",
       "      <th>pvalue</th>\n",
       "      <th>padj</th>\n",
       "      <th>gene_symbol</th>\n",
       "    </tr>\n",
       "  </thead>\n",
       "  <tbody>\n",
       "    <tr>\n",
       "      <th>0</th>\n",
       "      <td>0</td>\n",
       "      <td>3115.007965</td>\n",
       "      <td>-0.611308</td>\n",
       "      <td>0.092150</td>\n",
       "      <td>-6.633868</td>\n",
       "      <td>3.270033e-11</td>\n",
       "      <td>1.225591e-10</td>\n",
       "      <td>TSPAN6</td>\n",
       "    </tr>\n",
       "    <tr>\n",
       "      <th>1</th>\n",
       "      <td>1</td>\n",
       "      <td>137.424180</td>\n",
       "      <td>-3.909312</td>\n",
       "      <td>0.236414</td>\n",
       "      <td>-16.535858</td>\n",
       "      <td>2.024746e-61</td>\n",
       "      <td>5.575769e-60</td>\n",
       "      <td>TNMD</td>\n",
       "    </tr>\n",
       "    <tr>\n",
       "      <th>2</th>\n",
       "      <td>2</td>\n",
       "      <td>2312.437908</td>\n",
       "      <td>0.445773</td>\n",
       "      <td>0.055601</td>\n",
       "      <td>8.017309</td>\n",
       "      <td>1.080870e-15</td>\n",
       "      <td>5.272969e-15</td>\n",
       "      <td>DPM1</td>\n",
       "    </tr>\n",
       "    <tr>\n",
       "      <th>3</th>\n",
       "      <td>3</td>\n",
       "      <td>1893.468051</td>\n",
       "      <td>0.384674</td>\n",
       "      <td>0.055613</td>\n",
       "      <td>6.916968</td>\n",
       "      <td>4.614136e-12</td>\n",
       "      <td>1.829991e-11</td>\n",
       "      <td>SCYL3</td>\n",
       "    </tr>\n",
       "    <tr>\n",
       "      <th>4</th>\n",
       "      <td>4</td>\n",
       "      <td>787.754054</td>\n",
       "      <td>1.331132</td>\n",
       "      <td>0.072354</td>\n",
       "      <td>18.397566</td>\n",
       "      <td>1.373988e-75</td>\n",
       "      <td>5.873324e-74</td>\n",
       "      <td>C1orf112</td>\n",
       "    </tr>\n",
       "  </tbody>\n",
       "</table>\n",
       "</div>"
      ],
      "text/plain": [
       "   Unnamed: 0     baseMean  log2FoldChange     lfcSE       stat        pvalue  \\\n",
       "0           0  3115.007965       -0.611308  0.092150  -6.633868  3.270033e-11   \n",
       "1           1   137.424180       -3.909312  0.236414 -16.535858  2.024746e-61   \n",
       "2           2  2312.437908        0.445773  0.055601   8.017309  1.080870e-15   \n",
       "3           3  1893.468051        0.384674  0.055613   6.916968  4.614136e-12   \n",
       "4           4   787.754054        1.331132  0.072354  18.397566  1.373988e-75   \n",
       "\n",
       "           padj gene_symbol  \n",
       "0  1.225591e-10      TSPAN6  \n",
       "1  5.575769e-60        TNMD  \n",
       "2  5.272969e-15        DPM1  \n",
       "3  1.829991e-11       SCYL3  \n",
       "4  5.873324e-74    C1orf112  "
      ]
     },
     "execution_count": 6,
     "metadata": {},
     "output_type": "execute_result"
    }
   ],
   "source": [
    "data.head()"
   ]
  },
  {
   "cell_type": "markdown",
   "metadata": {},
   "source": [
    "Slice dataframe to get the two main columns (gene symbol and FC)"
   ]
  },
  {
   "cell_type": "code",
   "execution_count": 7,
   "metadata": {},
   "outputs": [],
   "source": [
    "rank = data[['gene_symbol','log2FoldChange']].dropna()"
   ]
  },
  {
   "cell_type": "code",
   "execution_count": 8,
   "metadata": {},
   "outputs": [
    {
     "data": {
      "text/html": [
       "<div>\n",
       "<table border=\"1\" class=\"dataframe\">\n",
       "  <thead>\n",
       "    <tr style=\"text-align: right;\">\n",
       "      <th></th>\n",
       "      <th>gene_symbol</th>\n",
       "      <th>log2FoldChange</th>\n",
       "    </tr>\n",
       "  </thead>\n",
       "  <tbody>\n",
       "    <tr>\n",
       "      <th>0</th>\n",
       "      <td>TSPAN6</td>\n",
       "      <td>-0.611308</td>\n",
       "    </tr>\n",
       "    <tr>\n",
       "      <th>1</th>\n",
       "      <td>TNMD</td>\n",
       "      <td>-3.909312</td>\n",
       "    </tr>\n",
       "    <tr>\n",
       "      <th>2</th>\n",
       "      <td>DPM1</td>\n",
       "      <td>0.445773</td>\n",
       "    </tr>\n",
       "    <tr>\n",
       "      <th>3</th>\n",
       "      <td>SCYL3</td>\n",
       "      <td>0.384674</td>\n",
       "    </tr>\n",
       "    <tr>\n",
       "      <th>4</th>\n",
       "      <td>C1orf112</td>\n",
       "      <td>1.331132</td>\n",
       "    </tr>\n",
       "  </tbody>\n",
       "</table>\n",
       "</div>"
      ],
      "text/plain": [
       "  gene_symbol  log2FoldChange\n",
       "0      TSPAN6       -0.611308\n",
       "1        TNMD       -3.909312\n",
       "2        DPM1        0.445773\n",
       "3       SCYL3        0.384674\n",
       "4    C1orf112        1.331132"
      ]
     },
     "execution_count": 8,
     "metadata": {},
     "output_type": "execute_result"
    }
   ],
   "source": [
    "rank.head()"
   ]
  },
  {
   "cell_type": "markdown",
   "metadata": {},
   "source": [
    "Run GSEA with KEGG 2016 gene sets"
   ]
  },
  {
   "cell_type": "code",
   "execution_count": 9,
   "metadata": {},
   "outputs": [
    {
     "name": "stderr",
     "output_type": "stream",
     "text": [
      "/home/ddomingofernandez/python/lib/python3.6/site-packages/matplotlib/cbook/__init__.py:424: MatplotlibDeprecationWarning: \n",
      "Passing one of 'on', 'true', 'off', 'false' as a boolean is deprecated; use an actual boolean (True/False) instead.\n",
      "  warn_deprecated(\"2.2\", \"Passing one of 'on', 'true', 'off', 'false' as a \"\n",
      "/home/ddomingofernandez/python/lib/python3.6/site-packages/matplotlib/cbook/__init__.py:424: MatplotlibDeprecationWarning: \n",
      "Passing one of 'on', 'true', 'off', 'false' as a boolean is deprecated; use an actual boolean (True/False) instead.\n",
      "  warn_deprecated(\"2.2\", \"Passing one of 'on', 'true', 'off', 'false' as a \"\n",
      "/home/ddomingofernandez/python/lib/python3.6/site-packages/matplotlib/cbook/__init__.py:424: MatplotlibDeprecationWarning: \n",
      "Passing one of 'on', 'true', 'off', 'false' as a boolean is deprecated; use an actual boolean (True/False) instead.\n",
      "  warn_deprecated(\"2.2\", \"Passing one of 'on', 'true', 'off', 'false' as a \"\n",
      "/home/ddomingofernandez/python/lib/python3.6/site-packages/matplotlib/cbook/__init__.py:424: MatplotlibDeprecationWarning: \n",
      "Passing one of 'on', 'true', 'off', 'false' as a boolean is deprecated; use an actual boolean (True/False) instead.\n",
      "  warn_deprecated(\"2.2\", \"Passing one of 'on', 'true', 'off', 'false' as a \"\n"
     ]
    }
   ],
   "source": [
    "pre_res = gseapy.prerank(\n",
    "    rnk=rank,\n",
    "    gene_sets='KEGG_2016',\n",
    "    processes=4,\n",
    "    permutation_num=100, # reduce number to speed up test\n",
    "    outdir='test/prerank_report_kegg'\n",
    ")"
   ]
  },
  {
   "cell_type": "code",
   "execution_count": 10,
   "metadata": {},
   "outputs": [
    {
     "data": {
      "text/html": [
       "<div>\n",
       "<table border=\"1\" class=\"dataframe\">\n",
       "  <thead>\n",
       "    <tr style=\"text-align: right;\">\n",
       "      <th></th>\n",
       "      <th>es</th>\n",
       "      <th>nes</th>\n",
       "      <th>pval</th>\n",
       "      <th>fdr</th>\n",
       "      <th>geneset_size</th>\n",
       "      <th>matched_size</th>\n",
       "      <th>genes</th>\n",
       "    </tr>\n",
       "    <tr>\n",
       "      <th>Term</th>\n",
       "      <th></th>\n",
       "      <th></th>\n",
       "      <th></th>\n",
       "      <th></th>\n",
       "      <th></th>\n",
       "      <th></th>\n",
       "      <th></th>\n",
       "    </tr>\n",
       "  </thead>\n",
       "  <tbody>\n",
       "    <tr>\n",
       "      <th>Systemic lupus erythematosus_Homo sapiens_hsa05322</th>\n",
       "      <td>0.721959</td>\n",
       "      <td>2.247015</td>\n",
       "      <td>0.0</td>\n",
       "      <td>0.000000</td>\n",
       "      <td>135</td>\n",
       "      <td>130</td>\n",
       "      <td>HIST1H2AI,HIST1H2BO,HIST1H3B,HIST1H3J,HIST1H3H...</td>\n",
       "    </tr>\n",
       "    <tr>\n",
       "      <th>Alcoholism_Homo sapiens_hsa05034</th>\n",
       "      <td>0.662603</td>\n",
       "      <td>2.201954</td>\n",
       "      <td>0.0</td>\n",
       "      <td>0.000000</td>\n",
       "      <td>179</td>\n",
       "      <td>178</td>\n",
       "      <td>GNG13,GNGT1,HIST1H2AI,HIST1H2BO,HIST1H3B,HIST1...</td>\n",
       "    </tr>\n",
       "    <tr>\n",
       "      <th>Viral carcinogenesis_Homo sapiens_hsa05203</th>\n",
       "      <td>0.541748</td>\n",
       "      <td>1.818396</td>\n",
       "      <td>0.0</td>\n",
       "      <td>0.001488</td>\n",
       "      <td>205</td>\n",
       "      <td>204</td>\n",
       "      <td>HIST1H2BO,HIST1H2BM,HIST1H4D,HIST1H2BB,HIST1H2...</td>\n",
       "    </tr>\n",
       "    <tr>\n",
       "      <th>Cell cycle_Homo sapiens_hsa04110</th>\n",
       "      <td>0.581447</td>\n",
       "      <td>1.849332</td>\n",
       "      <td>0.0</td>\n",
       "      <td>0.001984</td>\n",
       "      <td>124</td>\n",
       "      <td>123</td>\n",
       "      <td>PKMYT1,CDC20,PLK1,CDC25C,BUB1,PTTG1,CDK1,CCNB2...</td>\n",
       "    </tr>\n",
       "    <tr>\n",
       "      <th>DNA replication_Homo sapiens_hsa03030</th>\n",
       "      <td>0.673247</td>\n",
       "      <td>1.772368</td>\n",
       "      <td>0.0</td>\n",
       "      <td>0.003572</td>\n",
       "      <td>36</td>\n",
       "      <td>36</td>\n",
       "      <td>MCM4,RNASEH2A,MCM2,DNA2,FEN1,POLE2,PCNA,RFC4,L...</td>\n",
       "    </tr>\n",
       "  </tbody>\n",
       "</table>\n",
       "</div>"
      ],
      "text/plain": [
       "                                                          es       nes  pval  \\\n",
       "Term                                                                           \n",
       "Systemic lupus erythematosus_Homo sapiens_hsa05322  0.721959  2.247015   0.0   \n",
       "Alcoholism_Homo sapiens_hsa05034                    0.662603  2.201954   0.0   \n",
       "Viral carcinogenesis_Homo sapiens_hsa05203          0.541748  1.818396   0.0   \n",
       "Cell cycle_Homo sapiens_hsa04110                    0.581447  1.849332   0.0   \n",
       "DNA replication_Homo sapiens_hsa03030               0.673247  1.772368   0.0   \n",
       "\n",
       "                                                         fdr  geneset_size  \\\n",
       "Term                                                                         \n",
       "Systemic lupus erythematosus_Homo sapiens_hsa05322  0.000000           135   \n",
       "Alcoholism_Homo sapiens_hsa05034                    0.000000           179   \n",
       "Viral carcinogenesis_Homo sapiens_hsa05203          0.001488           205   \n",
       "Cell cycle_Homo sapiens_hsa04110                    0.001984           124   \n",
       "DNA replication_Homo sapiens_hsa03030               0.003572            36   \n",
       "\n",
       "                                                    matched_size  \\\n",
       "Term                                                               \n",
       "Systemic lupus erythematosus_Homo sapiens_hsa05322           130   \n",
       "Alcoholism_Homo sapiens_hsa05034                             178   \n",
       "Viral carcinogenesis_Homo sapiens_hsa05203                   204   \n",
       "Cell cycle_Homo sapiens_hsa04110                             123   \n",
       "DNA replication_Homo sapiens_hsa03030                         36   \n",
       "\n",
       "                                                                                                genes  \n",
       "Term                                                                                                   \n",
       "Systemic lupus erythematosus_Homo sapiens_hsa05322  HIST1H2AI,HIST1H2BO,HIST1H3B,HIST1H3J,HIST1H3H...  \n",
       "Alcoholism_Homo sapiens_hsa05034                    GNG13,GNGT1,HIST1H2AI,HIST1H2BO,HIST1H3B,HIST1...  \n",
       "Viral carcinogenesis_Homo sapiens_hsa05203          HIST1H2BO,HIST1H2BM,HIST1H4D,HIST1H2BB,HIST1H2...  \n",
       "Cell cycle_Homo sapiens_hsa04110                    PKMYT1,CDC20,PLK1,CDC25C,BUB1,PTTG1,CDK1,CCNB2...  \n",
       "DNA replication_Homo sapiens_hsa03030               MCM4,RNASEH2A,MCM2,DNA2,FEN1,POLE2,PCNA,RFC4,L...  "
      ]
     },
     "execution_count": 10,
     "metadata": {},
     "output_type": "execute_result"
    }
   ],
   "source": [
    "pre_res.res2d.head()"
   ]
  },
  {
   "cell_type": "markdown",
   "metadata": {},
   "source": [
    "Using the Normalized Enrichment Scores (NES), which indicate the change of directionality in the pathway, we can build the vectors for each disease or drug.\n",
    "\n",
    "In the following example, we assume that the pathway is activated or inhibited when the pathway NES is larger than 2 or smaller than -2, respectively. Pathways with NES between these two values are assumed to not have changed."
   ]
  },
  {
   "cell_type": "code",
   "execution_count": 11,
   "metadata": {},
   "outputs": [],
   "source": [
    "vector = []\n",
    "\n",
    "for nes in pre_res.res2d[\"nes\"]:\n",
    "    \n",
    "    if nes > 2:\n",
    "        vector.append(1)\n",
    "        \n",
    "    elif nes < -2:\n",
    "        vector.append(-1)\n",
    "        \n",
    "    vector.append(0)\n"
   ]
  },
  {
   "cell_type": "code",
   "execution_count": 12,
   "metadata": {},
   "outputs": [
    {
     "name": "stdout",
     "output_type": "stream",
     "text": [
      "[1, 0, 1, 0, 0, 0, 0, 0, 0, 0, 0, 0, 0, 0, -1, 0, 0, 0, 0, 0, -1, 0, 0, 0, 0, 0, 0, 0, 0, 0, 0, 0, -1, 0, 0, 0, 0, 0, 0, 0, 0, 0, 0, 0, 0, 0, 0, 0, 0, 0, 0, 0, 0, 0, 0, 0, 0, 0, 0, 0, 0, 0, 0, 0, 0, 0, 0, 0, 0, 0, 0, 0, 0, 0, 0, 0, 0, 0, 0, 0, 0, 0, 0, 0, 0, 0, 0, 0, 0, 0, 0, 0, 0, 0, 0, 0, 0, 0, 0, 0, 0, 0, 0, 0, 0, 0, 0, 0, 0, 0, 0, 0, 0, 0, 0, 0, 0, 0, 0, 0, 0, 0, 0, 0, 0, 0, 0, 0, 0, 0, 0, 0, 0, 0, 0, 0, 0, 0, 0, 0, 0, 0, 0, 0, 0, 0, 0, 0, 0, 0, 0, 0, 0, 0, 0, 0, 0, 0, 0, 0, 0, 0, 0, 0, 0, 0, 0, 0, 0, 0, 0, 0, 0, 0, 0, 0, 0, 0, 0, 0, 0, 0, 0, 0, 0, 0, 0, 0, 0, 0, 0, 0, 0, 0, 0, 0, 0, 0, 0, 0, 0, 0, 0, 0, 0, 0, 0, 0, 0, 0, 0, 0, 0, 0, 0, 0, 0, 0, 0, 0, 0, 0, 0, 0, 0, 0, 0, 0, 0, 0, 0, 0, 0, 0, 0, 0, 0, 0, 0, 0, 0, 0, 0, 0, 0, 0, 0, 0, 0, 0, 0, 0, 0, 0, 0, 0, 0, 0, 0, 0, 0, 0, 0, 0, 0, 0, 0, 0, 0, 0, 0, 0, 0, 0, 0, 0, 0, 0, 0, 0, 0, 0]\n"
     ]
    }
   ],
   "source": [
    "print(vector)"
   ]
  }
 ],
 "metadata": {
  "kernelspec": {
   "display_name": "Python 3",
   "language": "python",
   "name": "python3"
  },
  "language_info": {
   "codemirror_mode": {
    "name": "ipython",
    "version": 3
   },
   "file_extension": ".py",
   "mimetype": "text/x-python",
   "name": "python",
   "nbconvert_exporter": "python",
   "pygments_lexer": "ipython3",
   "version": "3.6.5"
  }
 },
 "nbformat": 4,
 "nbformat_minor": 2
}
